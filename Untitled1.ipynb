{
 "cells": [
  {
   "cell_type": "code",
   "execution_count": 17,
   "id": "18c631a8",
   "metadata": {},
   "outputs": [],
   "source": [
    "import pickle\n",
    "path_to_xy = 'public/ganzilla_images/raw_images/1_0/'\n",
    "with open(path_to_xy + \"children.pkl\", \"rb\") as pkl_handle:\n",
    "    children =  pickle.load(pkl_handle)\n",
    "with open(path_to_xy + \"parent.pkl\", \"rb\") as pkl_handle:\n",
    "    parent =  pickle.load(pkl_handle)"
   ]
  },
  {
   "cell_type": "code",
   "execution_count": 8,
   "id": "3cbd0ca5",
   "metadata": {},
   "outputs": [],
   "source": [
    "import numpy as np\n",
    "with open('directions_list.npy', 'rb') as f:\n",
    "    directions_list = np.load(f)"
   ]
  },
  {
   "cell_type": "code",
   "execution_count": 9,
   "id": "7cd02c61",
   "metadata": {},
   "outputs": [
    {
     "data": {
      "text/plain": [
       "(30, 5536)"
      ]
     },
     "execution_count": 9,
     "metadata": {},
     "output_type": "execute_result"
    }
   ],
   "source": [
    "directions_list.shape"
   ]
  },
  {
   "cell_type": "code",
   "execution_count": 16,
   "id": "2bf191b7",
   "metadata": {},
   "outputs": [
    {
     "data": {
      "text/plain": [
       "[]"
      ]
     },
     "execution_count": 16,
     "metadata": {},
     "output_type": "execute_result"
    }
   ],
   "source": [
    "imp"
   ]
  },
  {
   "cell_type": "code",
   "execution_count": 21,
   "id": "492758ee",
   "metadata": {},
   "outputs": [
    {
     "data": {
      "text/plain": [
       "defaultdict(list, {'0/0': ['1/7'], '1/7': ['2/1'], 0: []})"
      ]
     },
     "execution_count": 21,
     "metadata": {},
     "output_type": "execute_result"
    }
   ],
   "source": [
    "children"
   ]
  },
  {
   "cell_type": "code",
   "execution_count": 24,
   "id": "620e60e8",
   "metadata": {},
   "outputs": [],
   "source": [
    "import json\n",
    "path_to_tmp = 'public/ganzilla_images/raw_images/1_0/0/0/'\n",
    "with open(path_to_tmp + 'render.txt', 'r') as f:\n",
    "    render = json.load(f)\n"
   ]
  },
  {
   "cell_type": "code",
   "execution_count": 34,
   "id": "2991684e",
   "metadata": {},
   "outputs": [
    {
     "data": {
      "text/plain": [
       "['0', '1', '2', '3', '4', '5', '6']"
      ]
     },
     "execution_count": 34,
     "metadata": {},
     "output_type": "execute_result"
    }
   ],
   "source": [
    "list(render.keys())"
   ]
  },
  {
   "cell_type": "code",
   "execution_count": 36,
   "id": "c06b21a3",
   "metadata": {},
   "outputs": [],
   "source": [
    "render['6'] = [1, 0]"
   ]
  },
  {
   "cell_type": "code",
   "execution_count": 44,
   "id": "1eb048f9",
   "metadata": {},
   "outputs": [],
   "source": [
    "render_button_idx = list(render.keys())[-1]"
   ]
  },
  {
   "cell_type": "code",
   "execution_count": 47,
   "id": "37a0ae4a",
   "metadata": {},
   "outputs": [],
   "source": [
    "render[render_button_idx] = [2,0]"
   ]
  },
  {
   "cell_type": "code",
   "execution_count": 48,
   "id": "21a03340",
   "metadata": {},
   "outputs": [
    {
     "data": {
      "text/plain": [
       "{'0': [63,\n",
       "  467,\n",
       "  ['ganzilla_images/raw_images/1_0/0/0/0.png',\n",
       "   'ganzilla_images/raw_images/1_0/0/0/5.png',\n",
       "   'ganzilla_images/raw_images/1_0/0/0/6.png',\n",
       "   'ganzilla_images/raw_images/1_0/0/0/7.png',\n",
       "   'ganzilla_images/raw_images/1_0/0/0/17.png',\n",
       "   'ganzilla_images/raw_images/1_0/0/0/19.png',\n",
       "   'ganzilla_images/raw_images/1_0/0/0/24.png']],\n",
       " '1': [199, 200, ['ganzilla_images/raw_images/1_0/0/0/28.png']],\n",
       " '2': [-96,\n",
       "  152,\n",
       "  ['ganzilla_images/raw_images/1_0/0/0/1.png',\n",
       "   'ganzilla_images/raw_images/1_0/0/0/3.png',\n",
       "   'ganzilla_images/raw_images/1_0/0/0/12.png',\n",
       "   'ganzilla_images/raw_images/1_0/0/0/15.png',\n",
       "   'ganzilla_images/raw_images/1_0/0/0/16.png',\n",
       "   'ganzilla_images/raw_images/1_0/0/0/18.png',\n",
       "   'ganzilla_images/raw_images/1_0/0/0/21.png',\n",
       "   'ganzilla_images/raw_images/1_0/0/0/25.png']],\n",
       " '3': [411, 412, ['ganzilla_images/raw_images/1_0/0/0/29.png']],\n",
       " '4': [153,\n",
       "  -96,\n",
       "  ['ganzilla_images/raw_images/1_0/0/0/4.png',\n",
       "   'ganzilla_images/raw_images/1_0/0/0/8.png',\n",
       "   'ganzilla_images/raw_images/1_0/0/0/9.png',\n",
       "   'ganzilla_images/raw_images/1_0/0/0/10.png',\n",
       "   'ganzilla_images/raw_images/1_0/0/0/11.png',\n",
       "   'ganzilla_images/raw_images/1_0/0/0/13.png',\n",
       "   'ganzilla_images/raw_images/1_0/0/0/20.png',\n",
       "   'ganzilla_images/raw_images/1_0/0/0/23.png',\n",
       "   'ganzilla_images/raw_images/1_0/0/0/26.png',\n",
       "   'ganzilla_images/raw_images/1_0/0/0/27.png']],\n",
       " '5': [467,\n",
       "  64,\n",
       "  ['ganzilla_images/raw_images/1_0/0/0/2.png',\n",
       "   'ganzilla_images/raw_images/1_0/0/0/14.png',\n",
       "   'ganzilla_images/raw_images/1_0/0/0/22.png']],\n",
       " '6': [2, 0]}"
      ]
     },
     "execution_count": 48,
     "metadata": {},
     "output_type": "execute_result"
    }
   ],
   "source": [
    "render"
   ]
  },
  {
   "cell_type": "raw",
   "id": "4e5e244e",
   "metadata": {},
   "source": [
    "rfind"
   ]
  },
  {
   "cell_type": "code",
   "execution_count": 57,
   "id": "8c16522c",
   "metadata": {},
   "outputs": [],
   "source": [
    "split_point = parent['1/7'][0].rfind('/')"
   ]
  },
  {
   "cell_type": "code",
   "execution_count": 58,
   "id": "391b4b53",
   "metadata": {},
   "outputs": [
    {
     "data": {
      "text/plain": [
       "['0/0']"
      ]
     },
     "execution_count": 58,
     "metadata": {},
     "output_type": "execute_result"
    }
   ],
   "source": [
    "parent['1/7']"
   ]
  },
  {
   "cell_type": "code",
   "execution_count": 60,
   "id": "5fa0506b",
   "metadata": {},
   "outputs": [
    {
     "data": {
      "text/plain": [
       "'0'"
      ]
     },
     "execution_count": 60,
     "metadata": {},
     "output_type": "execute_result"
    }
   ],
   "source": [
    "parent['1/7'][0][:split_point]"
   ]
  },
  {
   "cell_type": "code",
   "execution_count": 62,
   "id": "2e3fe6d9",
   "metadata": {},
   "outputs": [
    {
     "data": {
      "text/plain": [
       "'0'"
      ]
     },
     "execution_count": 62,
     "metadata": {},
     "output_type": "execute_result"
    }
   ],
   "source": [
    "parent['1/7'][0][split_point+1:]"
   ]
  },
  {
   "cell_type": "code",
   "execution_count": 63,
   "id": "13ff8cb2",
   "metadata": {},
   "outputs": [
    {
     "data": {
      "text/plain": [
       "6"
      ]
     },
     "execution_count": 63,
     "metadata": {},
     "output_type": "execute_result"
    }
   ],
   "source": [
    "'asdlollol'.rfind('lol')"
   ]
  },
  {
   "cell_type": "code",
   "execution_count": null,
   "id": "6e4623f0",
   "metadata": {},
   "outputs": [],
   "source": []
  }
 ],
 "metadata": {
  "kernelspec": {
   "display_name": "Python 3 (ipykernel)",
   "language": "python",
   "name": "python3"
  },
  "language_info": {
   "codemirror_mode": {
    "name": "ipython",
    "version": 3
   },
   "file_extension": ".py",
   "mimetype": "text/x-python",
   "name": "python",
   "nbconvert_exporter": "python",
   "pygments_lexer": "ipython3",
   "version": "3.7.10"
  }
 },
 "nbformat": 4,
 "nbformat_minor": 5
}
